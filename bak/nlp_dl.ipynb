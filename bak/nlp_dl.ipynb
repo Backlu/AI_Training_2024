{
 "cells": [
  {
   "cell_type": "markdown",
   "id": "573ad2c5",
   "metadata": {},
   "source": [
    "# NLP - DL"
   ]
  },
  {
   "cell_type": "code",
   "execution_count": 62,
   "id": "b9f1da0e",
   "metadata": {},
   "outputs": [
    {
     "name": "stdout",
     "output_type": "stream",
     "text": [
      "The autoreload extension is already loaded. To reload it, use:\n",
      "  %reload_ext autoreload\n"
     ]
    }
   ],
   "source": [
    "%load_ext autoreload\n",
    "%autoreload 2\n",
    "import sys\n",
    "sys.path.append('.')\n",
    "\n",
    "import os\n",
    "import pandas as pd\n",
    "import numpy as np\n",
    "import re\n",
    "from sklearn.model_selection import train_test_split\n",
    "from sklearn.metrics import accuracy_score, classification_report\n",
    "from sklearn.preprocessing import LabelEncoder\n",
    "from transformers import RobertaForSequenceClassification, RobertaTokenizer, AdamW\n",
    "from transformers import TrainingArguments, Trainer\n",
    "from peft import LoraConfig, get_peft_model\n",
    "from torch.utils.data import DataLoader, TensorDataset\n",
    "from torchviz import make_dot\n",
    "import torch\n",
    "from common.db import Neo4jDB\n",
    "from lib.dl_utils import CustomDataset, compute_metrics\n",
    "\n",
    "NEO4J_CONFIG = 'graph_db_ee'\n",
    "NEO4J_DB='calllog'\n",
    "\n",
    "neo4jdb = Neo4jDB(config_name=NEO4J_CONFIG, database=NEO4J_DB)"
   ]
  },
  {
   "cell_type": "markdown",
   "id": "a53e6ae4",
   "metadata": {},
   "source": [
    "### Load Data"
   ]
  },
  {
   "cell_type": "code",
   "execution_count": 33,
   "id": "192f34b4",
   "metadata": {},
   "outputs": [],
   "source": [
    "cypher1 = '''MATCH (dr:DispatchRaw)<--(d:Dispatch)-->(f:Failure)\n",
    "WHERE dr.classify3='(bootup)no power'\n",
    "RETURN dr.contact_title AS contact_title,\n",
    "       dr.contact_text AS contact_text,\n",
    "       dr.classify3 AS classify3\n",
    "LIMIT 300\n",
    "'''\n",
    "data1 = neo4jdb.run_cypher(cypher1)\n",
    "data1.drop_duplicates(subset='contact_text', inplace=True)\n",
    "\n",
    "cypher2 = '''MATCH (dr:DispatchRaw)<--(d:Dispatch)-->(f:Failure)\n",
    "WHERE dr.classify3='(bsod)bsod'\n",
    "RETURN dr.contact_title AS contact_title,\n",
    "       dr.contact_text AS contact_text,\n",
    "       dr.classify3 AS classify3\n",
    "LIMIT 300\n",
    "'''\n",
    "data2 = neo4jdb.run_cypher(cypher2)\n",
    "data2.drop_duplicates(subset='contact_text', inplace=True)\n",
    "\n",
    "data = pd.concat([data1.sample(70), data2.sample(70)])\n",
    "data.reset_index(drop=True, inplace=True)\n"
   ]
  },
  {
   "cell_type": "markdown",
   "id": "1b942277",
   "metadata": {},
   "source": [
    "### Load BERT Model"
   ]
  },
  {
   "cell_type": "code",
   "execution_count": 69,
   "id": "e9e22c0e",
   "metadata": {},
   "outputs": [
    {
     "name": "stderr",
     "output_type": "stream",
     "text": [
      "Some weights of RobertaForSequenceClassification were not initialized from the model checkpoint at /mnt/hdd1/Model/calllog_llm/transformer/roberta-base and are newly initialized: ['classifier.dense.bias', 'classifier.dense.weight', 'classifier.out_proj.bias', 'classifier.out_proj.weight']\n",
      "You should probably TRAIN this model on a down-stream task to be able to use it for predictions and inference.\n"
     ]
    },
    {
     "name": "stdout",
     "output_type": "stream",
     "text": [
      "trainable params: 1,771,778 || all params: 126,418,948 || trainable%: 1.4015130073697497\n"
     ]
    }
   ],
   "source": [
    "model_path = '/mnt/hdd1/Model/calllog_llm/transformer/roberta-base'\n",
    "tokenizer = RobertaTokenizer.from_pretrained(model_path)\n",
    "base_model = RobertaForSequenceClassification.from_pretrained(model_path, num_labels=2)            \n",
    "lora_config = LoraConfig(r = 32, lora_alpha = 64, lora_dropout = 0.05, task_type = 'SEQ_CLS')    \n",
    "model = get_peft_model(base_model, lora_config)\n",
    "model.print_trainable_parameters()"
   ]
  },
  {
   "cell_type": "code",
   "execution_count": 4,
   "id": "3886e115",
   "metadata": {},
   "outputs": [
    {
     "data": {
      "text/plain": [
       "'roberta_model.png'"
      ]
     },
     "execution_count": 4,
     "metadata": {},
     "output_type": "execute_result"
    }
   ],
   "source": [
    "#Optional - Plot the model\n",
    "dummy_input = torch.zeros((1, 512), dtype=torch.long)  # Adjust the sequence length as needed\n",
    "logits = model(dummy_input).logits\n",
    "graph = make_dot(logits, params=dict(model.named_parameters()))\n",
    "graph.render(filename='roberta_model', format='png', cleanup=True)"
   ]
  },
  {
   "cell_type": "markdown",
   "id": "d49ea269",
   "metadata": {},
   "source": [
    "### Training Data Preprocess"
   ]
  },
  {
   "cell_type": "code",
   "execution_count": 34,
   "id": "eaea443c",
   "metadata": {},
   "outputs": [],
   "source": [
    "data['text'] = data.apply(lambda r: '. '.join([r['contact_title'], r['contact_text']]), axis=1)\n",
    "labelEncoder = LabelEncoder()\n",
    "data['label'] = labelEncoder.fit_transform(data['classify3']) \n",
    "data['encoding'] = data['text'].map(lambda x: tokenizer(x)['input_ids'])"
   ]
  },
  {
   "cell_type": "code",
   "execution_count": 39,
   "id": "9133cb77",
   "metadata": {},
   "outputs": [
    {
     "name": "stdout",
     "output_type": "stream",
     "text": [
      "training data size:100\n",
      "validation data size:20\n",
      "test data size:20\n"
     ]
    }
   ],
   "source": [
    "data_tr, data_ts = train_test_split(data, test_size=20, random_state=8, stratify=data['label'])\n",
    "data_tr, data_val = train_test_split(data_tr, test_size=20, random_state=8, stratify=data_tr['label'])\n",
    "\n",
    "print(f'training data size:{len(data_tr)}')\n",
    "print(f'validation data size:{len(data_val)}')\n",
    "print(f'test data size:{len(data_ts)}')\n",
    "\n",
    "train_dataset = CustomDataset(dataframe=data_tr, tokenizer=tokenizer)\n",
    "eval_dataset = CustomDataset(dataframe=data_val, tokenizer=tokenizer)\n",
    "test_dataset = CustomDataset(dataframe=data_ts, tokenizer=tokenizer)\n",
    "\n"
   ]
  },
  {
   "cell_type": "markdown",
   "id": "d3943cf4",
   "metadata": {},
   "source": [
    "### Roberta Model training"
   ]
  },
  {
   "cell_type": "code",
   "execution_count": 70,
   "id": "9c062f43",
   "metadata": {},
   "outputs": [
    {
     "data": {
      "text/html": [
       "\n",
       "    <div>\n",
       "      \n",
       "      <progress value='70' max='70' style='width:300px; height:20px; vertical-align: middle;'></progress>\n",
       "      [70/70 00:43, Epoch 10/10]\n",
       "    </div>\n",
       "    <table border=\"1\" class=\"dataframe\">\n",
       "  <thead>\n",
       " <tr style=\"text-align: left;\">\n",
       "      <th>Epoch</th>\n",
       "      <th>Training Loss</th>\n",
       "      <th>Validation Loss</th>\n",
       "      <th>Acc</th>\n",
       "      <th>F1 Micro</th>\n",
       "      <th>F1 Macro</th>\n",
       "      <th>F1 Weighted</th>\n",
       "    </tr>\n",
       "  </thead>\n",
       "  <tbody>\n",
       "    <tr>\n",
       "      <td>1</td>\n",
       "      <td>No log</td>\n",
       "      <td>0.694030</td>\n",
       "      <td>0.500000</td>\n",
       "      <td>0.500000</td>\n",
       "      <td>0.333333</td>\n",
       "      <td>0.333333</td>\n",
       "    </tr>\n",
       "    <tr>\n",
       "      <td>2</td>\n",
       "      <td>No log</td>\n",
       "      <td>0.691706</td>\n",
       "      <td>0.500000</td>\n",
       "      <td>0.500000</td>\n",
       "      <td>0.333333</td>\n",
       "      <td>0.333333</td>\n",
       "    </tr>\n",
       "    <tr>\n",
       "      <td>3</td>\n",
       "      <td>No log</td>\n",
       "      <td>0.689056</td>\n",
       "      <td>0.500000</td>\n",
       "      <td>0.500000</td>\n",
       "      <td>0.479167</td>\n",
       "      <td>0.479167</td>\n",
       "    </tr>\n",
       "    <tr>\n",
       "      <td>4</td>\n",
       "      <td>No log</td>\n",
       "      <td>0.686326</td>\n",
       "      <td>0.550000</td>\n",
       "      <td>0.550000</td>\n",
       "      <td>0.539642</td>\n",
       "      <td>0.539642</td>\n",
       "    </tr>\n",
       "    <tr>\n",
       "      <td>5</td>\n",
       "      <td>No log</td>\n",
       "      <td>0.683863</td>\n",
       "      <td>0.700000</td>\n",
       "      <td>0.700000</td>\n",
       "      <td>0.670330</td>\n",
       "      <td>0.670330</td>\n",
       "    </tr>\n",
       "    <tr>\n",
       "      <td>6</td>\n",
       "      <td>No log</td>\n",
       "      <td>0.681301</td>\n",
       "      <td>0.550000</td>\n",
       "      <td>0.550000</td>\n",
       "      <td>0.435737</td>\n",
       "      <td>0.435737</td>\n",
       "    </tr>\n",
       "    <tr>\n",
       "      <td>7</td>\n",
       "      <td>No log</td>\n",
       "      <td>0.678197</td>\n",
       "      <td>0.650000</td>\n",
       "      <td>0.650000</td>\n",
       "      <td>0.601140</td>\n",
       "      <td>0.601140</td>\n",
       "    </tr>\n",
       "    <tr>\n",
       "      <td>8</td>\n",
       "      <td>No log</td>\n",
       "      <td>0.675897</td>\n",
       "      <td>0.750000</td>\n",
       "      <td>0.750000</td>\n",
       "      <td>0.733333</td>\n",
       "      <td>0.733333</td>\n",
       "    </tr>\n",
       "    <tr>\n",
       "      <td>9</td>\n",
       "      <td>No log</td>\n",
       "      <td>0.674886</td>\n",
       "      <td>0.750000</td>\n",
       "      <td>0.750000</td>\n",
       "      <td>0.733333</td>\n",
       "      <td>0.733333</td>\n",
       "    </tr>\n",
       "    <tr>\n",
       "      <td>10</td>\n",
       "      <td>No log</td>\n",
       "      <td>0.674480</td>\n",
       "      <td>0.750000</td>\n",
       "      <td>0.750000</td>\n",
       "      <td>0.733333</td>\n",
       "      <td>0.733333</td>\n",
       "    </tr>\n",
       "  </tbody>\n",
       "</table><p>"
      ],
      "text/plain": [
       "<IPython.core.display.HTML object>"
      ]
     },
     "metadata": {},
     "output_type": "display_data"
    },
    {
     "data": {
      "text/plain": [
       "TrainOutput(global_step=70, training_loss=0.6883468082972936, metrics={'train_runtime': 44.2024, 'train_samples_per_second': 22.623, 'train_steps_per_second': 1.584, 'total_flos': 268553957376000.0, 'train_loss': 0.6883468082972936, 'epoch': 10.0})"
      ]
     },
     "execution_count": 70,
     "metadata": {},
     "output_type": "execute_result"
    }
   ],
   "source": [
    "#Training\n",
    "output_dir = 'tmp'\n",
    "training_args = TrainingArguments(output_dir=output_dir, \n",
    "                                  learning_rate = 1e-4,\n",
    "                                  weight_decay = 0.01,\n",
    "                                  per_device_train_batch_size=16, \n",
    "                                  per_device_eval_batch_size = 4,                                  \n",
    "                                  evaluation_strategy=\"epoch\", \n",
    "                                  save_strategy = 'epoch',\n",
    "                                  load_best_model_at_end = True,\n",
    "                                  num_train_epochs=10, \n",
    "                                  report_to=[])\n",
    "\n",
    "trainer = Trainer(\n",
    "    model=model,\n",
    "    args=training_args,\n",
    "    train_dataset=train_dataset,\n",
    "    eval_dataset=eval_dataset,\n",
    "    compute_metrics=compute_metrics,\n",
    ")\n",
    "\n",
    "trainer.train()\n"
   ]
  },
  {
   "cell_type": "markdown",
   "id": "560a253b",
   "metadata": {},
   "source": [
    "### Model Performance Testing"
   ]
  },
  {
   "cell_type": "code",
   "execution_count": 71,
   "id": "6c9b8587",
   "metadata": {},
   "outputs": [
    {
     "data": {
      "text/html": [],
      "text/plain": [
       "<IPython.core.display.HTML object>"
      ]
     },
     "metadata": {},
     "output_type": "display_data"
    },
    {
     "data": {
      "text/plain": [
       "{'test_loss': 0.677832305431366,\n",
       " 'test_acc': 0.75,\n",
       " 'test_f1_micro': 0.75,\n",
       " 'test_f1_macro': 0.7493734335839599,\n",
       " 'test_f1_weighted': 0.7493734335839598,\n",
       " 'test_runtime': 0.338,\n",
       " 'test_samples_per_second': 59.167,\n",
       " 'test_steps_per_second': 14.792}"
      ]
     },
     "execution_count": 71,
     "metadata": {},
     "output_type": "execute_result"
    }
   ],
   "source": [
    "predictions = trainer.predict(test_dataset)\n",
    "list(predictions)[2]"
   ]
  },
  {
   "cell_type": "code",
   "execution_count": 83,
   "id": "5f880e70",
   "metadata": {},
   "outputs": [],
   "source": [
    "data_ts['predict']=np.argmax(predictions[0], axis=1)"
   ]
  },
  {
   "cell_type": "code",
   "execution_count": 92,
   "id": "30be55c6",
   "metadata": {},
   "outputs": [],
   "source": [
    "data_ts['predict_classify'] = data_ts['predict'].map(lambda x: labelEncoder.classes_[x])"
   ]
  },
  {
   "cell_type": "code",
   "execution_count": 93,
   "id": "650b100d",
   "metadata": {},
   "outputs": [
    {
     "data": {
      "text/html": [
       "<div>\n",
       "<style scoped>\n",
       "    .dataframe tbody tr th:only-of-type {\n",
       "        vertical-align: middle;\n",
       "    }\n",
       "\n",
       "    .dataframe tbody tr th {\n",
       "        vertical-align: top;\n",
       "    }\n",
       "\n",
       "    .dataframe thead th {\n",
       "        text-align: right;\n",
       "    }\n",
       "</style>\n",
       "<table border=\"1\" class=\"dataframe\">\n",
       "  <thead>\n",
       "    <tr style=\"text-align: right;\">\n",
       "      <th></th>\n",
       "      <th>text</th>\n",
       "      <th>classify3</th>\n",
       "      <th>predict_classify</th>\n",
       "    </tr>\n",
       "  </thead>\n",
       "  <tbody>\n",
       "    <tr>\n",
       "      <th>8</th>\n",
       "      <td>Exg Collab Case Number: # 179294725. CMG call transfer to pro support PLUS cx is looking for tech support</td>\n",
       "      <td>(bootup)no power</td>\n",
       "      <td>(bsod)bsod</td>\n",
       "    </tr>\n",
       "    <tr>\n",
       "      <th>136</th>\n",
       "      <td>Dell Online MailInRepairRequest : Online. --Call Text Unavailable--</td>\n",
       "      <td>(bsod)bsod</td>\n",
       "      <td>(bootup)no power</td>\n",
       "    </tr>\n",
       "    <tr>\n",
       "      <th>86</th>\n",
       "      <td>BIOS Setting JSRX9Y3. Operating System Errors and Blue Screen_x000D_\\nNext Activity Added to this Call_Text!! 00T6P00000qw0fFUAQ _x000D_\\nAdditional ToXXXXXXXXXXXXXXXXXXXXXXXXXXXXXX0D_CC: _x000D_BCC: _x000D_Attachment: _x000D__x000D_Subject: Dell Support: Case Number # 176775048 from Jacob    [ ref:_00D0bGaMp._5006PEZMh5:ref ]_x000D_Body:_x000D_Case Number 176775048_x000D__x000D_Contact Us | Support Library | Download Center | Support Assist | Community Forums_x000D__x000D_** Please Use Reply to All when replying to this emailXXXXXXXXXXXXXXXXXXXXXXXXXXXXXXx000D__x000D_This emailXXXXXXXXXXXXXXXXXXXXXXXXXXXXXXraction with Dell Technical Support._x000D__x000D_I have included your service request information below._x000D__x000D_Service Tag: JSRX9Y3_x000D_Case Number: 176775048_x000D__x000D_I will be your service request owner and primary point of contact until your Dell issue is completely resolved. If you require additional assistance while Im out of the office please refer to my emailXXXXXXXXXXXXXXXXXXXXXXXXXXXXXXn. You may also contact me directly by replying all to this emailXXXXXXXXXXXXXXXXXXXXXXXXXXXXXXthe standard warranty support options, the new AR Assistant app is available to help you service your system. For information about the AR Assistant, here is a brief video overview and the link to download the app is below._x000D__x000D_Now available on select Alienware, Chromebook, G3, Inspiron, Latitude, OptiPlex, Precision, Vostro and XPS systems._x000D__x000D_Dell AR Assistant for Android_x000D__x000D_Dell AR Assistant for iOS_x000D__x000D_Thank you for choosing Dell._x000D__x000D_Please do not change the subject line of the emailXXXXXXXXXXXXXXXXXXXXXXXXXXXXXX0D_Senior Technician, Technical Support_x000D_Dell Technologies | Pro Support_x000D_Jacob.Jetty@Dell.com_x000D_Working Hours: Monday ‒ Friday | 10:30 ‒ 21:30 (CT)_x000D__x000D_My manager is robyn_seippel@dell.com Thanks!_x000D__x000D_ref:_00D0bGaMp._5006PEZMh5:ref</td>\n",
       "      <td>(bsod)bsod</td>\n",
       "      <td>(bootup)no power</td>\n",
       "    </tr>\n",
       "    <tr>\n",
       "      <th>10</th>\n",
       "      <td>No Power. 699 Boulevard Cardinal Leger PINCOURT, QC J7W 6W9_x000D__x000D_No Power_x000D_Hard Reset - same issue_x000D_Power Button is ok_x000D_M-Bist - no light_x000D_Known Good Ac/AD - same issue_x000D_Cst ask for exchange_x000D_Cst is eligible for exchange - &lt;30 days purchase_x000D__x000D_Luc Jellet_x000D_INFO-IT@VILLEPINCOURT.QC.CA</td>\n",
       "      <td>(bootup)no power</td>\n",
       "      <td>(bsod)bsod</td>\n",
       "    </tr>\n",
       "    <tr>\n",
       "      <th>51</th>\n",
       "      <td>No Power. 문제 설명: No Power_x000D_문제 유형: Hardware_x000D_서비스 유형: Parts &amp; Labor_x000D_부품 배송 중: MB_x000D_부품 교체 지침: Replace Parts as Needed_x000D_Resolution Type: Dispatch_x000D__x000D__x000D_Notes (Troubleshooting): - 전원 LED = OFF_x000D_- 어댑터 LED = White Solid_x000D_- 어댑터 SWAP = 증상 동일_x000D_- 진단등 LED = OFF_x000D_- 지난 주 금요일 새제품 오픈 후, 금일 재부팅 시 No Power 발생_x000D_- 잔류전원 제거 = N/A : NCTT_x000D_- RTC 리셋 = 증상 동일_x000D_- MB 접수 안내_x000D__x000D_Resolution Type: Dispatch_x000D__x000D__x000D_N/A_x000D_N/A_x000D_Dell Smart ID 확인 방법 (DSID): PPID / Tag_x000D_Requested Follow-Up Type(s): 이메일, 전화_x000D_잠재적 데이터 손실 알림: No_x000D_반품 인식_x000D_지원 정책 범위 준수: In Scope_x000D_다른 결함이 발견되지 않은 경우 확인(VNOFF)_x000D_고객 만족도: OK_x000D_#Logger | Case Log | APJ | Client | Logger#</td>\n",
       "      <td>(bootup)no power</td>\n",
       "      <td>(bsod)bsod</td>\n",
       "    </tr>\n",
       "  </tbody>\n",
       "</table>\n",
       "</div>"
      ],
      "text/plain": [
       "                                                                                                                                                                                                                                                                                                                                                                                                                                                                                                                                                                                                                                                                                                                                                                                                                                                                                                                                                                                                                                                                                                                                                                                                                                                                                                                                                                                                                                                                                                                                                                                                                                                                                                                                                                                                                                                                                                                                                                                                                                     text  \\\n",
       "8                                                                                                                                                                                                                                                                                                                                                                                                                                                                                                                                                                                                                                                                                                                                                                                                                                                                                                                                                                                                                                                                                                                                                                                                                                                                                                                                                                                                                                                                                                                                                                                                                                                                                                                                                                                                                                                                                                                               Exg Collab Case Number: # 179294725. CMG call transfer to pro support PLUS cx is looking for tech support   \n",
       "136                                                                                                                                                                                                                                                                                                                                                                                                                                                                                                                                                                                                                                                                                                                                                                                                                                                                                                                                                                                                                                                                                                                                                                                                                                                                                                                                                                                                                                                                                                                                                                                                                                                                                                                                                                                                                                                                                                                                                                   Dell Online MailInRepairRequest : Online. --Call Text Unavailable--   \n",
       "86   BIOS Setting JSRX9Y3. Operating System Errors and Blue Screen_x000D_\\nNext Activity Added to this Call_Text!! 00T6P00000qw0fFUAQ _x000D_\\nAdditional ToXXXXXXXXXXXXXXXXXXXXXXXXXXXXXX0D_CC: _x000D_BCC: _x000D_Attachment: _x000D__x000D_Subject: Dell Support: Case Number # 176775048 from Jacob    [ ref:_00D0bGaMp._5006PEZMh5:ref ]_x000D_Body:_x000D_Case Number 176775048_x000D__x000D_Contact Us | Support Library | Download Center | Support Assist | Community Forums_x000D__x000D_** Please Use Reply to All when replying to this emailXXXXXXXXXXXXXXXXXXXXXXXXXXXXXXx000D__x000D_This emailXXXXXXXXXXXXXXXXXXXXXXXXXXXXXXraction with Dell Technical Support._x000D__x000D_I have included your service request information below._x000D__x000D_Service Tag: JSRX9Y3_x000D_Case Number: 176775048_x000D__x000D_I will be your service request owner and primary point of contact until your Dell issue is completely resolved. If you require additional assistance while Im out of the office please refer to my emailXXXXXXXXXXXXXXXXXXXXXXXXXXXXXXn. You may also contact me directly by replying all to this emailXXXXXXXXXXXXXXXXXXXXXXXXXXXXXXthe standard warranty support options, the new AR Assistant app is available to help you service your system. For information about the AR Assistant, here is a brief video overview and the link to download the app is below._x000D__x000D_Now available on select Alienware, Chromebook, G3, Inspiron, Latitude, OptiPlex, Precision, Vostro and XPS systems._x000D__x000D_Dell AR Assistant for Android_x000D__x000D_Dell AR Assistant for iOS_x000D__x000D_Thank you for choosing Dell._x000D__x000D_Please do not change the subject line of the emailXXXXXXXXXXXXXXXXXXXXXXXXXXXXXX0D_Senior Technician, Technical Support_x000D_Dell Technologies | Pro Support_x000D_Jacob.Jetty@Dell.com_x000D_Working Hours: Monday ‒ Friday | 10:30 ‒ 21:30 (CT)_x000D__x000D_My manager is robyn_seippel@dell.com Thanks!_x000D__x000D_ref:_00D0bGaMp._5006PEZMh5:ref   \n",
       "10                                                                                                                                                                                                                                                                                                                                                                                                                                                                                                                                                                                                                                                                                                                                                                                                                                                                                                                                                                                                                                                                                                                                                                                                                                                                                                                                                                                                                                                                                                                                                                                                                                                                                       No Power. 699 Boulevard Cardinal Leger PINCOURT, QC J7W 6W9_x000D__x000D_No Power_x000D_Hard Reset - same issue_x000D_Power Button is ok_x000D_M-Bist - no light_x000D_Known Good Ac/AD - same issue_x000D_Cst ask for exchange_x000D_Cst is eligible for exchange - <30 days purchase_x000D__x000D_Luc Jellet_x000D_INFO-IT@VILLEPINCOURT.QC.CA   \n",
       "51                                                                                                                                                                                                                                                                                                                                                                                                                                                                                                                                                                                                                                                                                                                                                                                                                                                                                                                                                                                                                                                                                                                                                                                                                                                              No Power. 문제 설명: No Power_x000D_문제 유형: Hardware_x000D_서비스 유형: Parts & Labor_x000D_부품 배송 중: MB_x000D_부품 교체 지침: Replace Parts as Needed_x000D_Resolution Type: Dispatch_x000D__x000D__x000D_Notes (Troubleshooting): - 전원 LED = OFF_x000D_- 어댑터 LED = White Solid_x000D_- 어댑터 SWAP = 증상 동일_x000D_- 진단등 LED = OFF_x000D_- 지난 주 금요일 새제품 오픈 후, 금일 재부팅 시 No Power 발생_x000D_- 잔류전원 제거 = N/A : NCTT_x000D_- RTC 리셋 = 증상 동일_x000D_- MB 접수 안내_x000D__x000D_Resolution Type: Dispatch_x000D__x000D__x000D_N/A_x000D_N/A_x000D_Dell Smart ID 확인 방법 (DSID): PPID / Tag_x000D_Requested Follow-Up Type(s): 이메일, 전화_x000D_잠재적 데이터 손실 알림: No_x000D_반품 인식_x000D_지원 정책 범위 준수: In Scope_x000D_다른 결함이 발견되지 않은 경우 확인(VNOFF)_x000D_고객 만족도: OK_x000D_#Logger | Case Log | APJ | Client | Logger#   \n",
       "\n",
       "            classify3  predict_classify  \n",
       "8    (bootup)no power        (bsod)bsod  \n",
       "136        (bsod)bsod  (bootup)no power  \n",
       "86         (bsod)bsod  (bootup)no power  \n",
       "10   (bootup)no power        (bsod)bsod  \n",
       "51   (bootup)no power        (bsod)bsod  "
      ]
     },
     "execution_count": 93,
     "metadata": {},
     "output_type": "execute_result"
    }
   ],
   "source": [
    "pd.set_option(\"display.max_colwidth\", None)\n",
    "data_ts[data_ts.apply(lambda r: r['label']!=r['predict'], axis=1)][['text','classify3','predict_classify']]"
   ]
  },
  {
   "cell_type": "code",
   "execution_count": null,
   "id": "b1b2cd59",
   "metadata": {},
   "outputs": [],
   "source": []
  }
 ],
 "metadata": {
  "kernelspec": {
   "display_name": "Python 3 (ipykernel)",
   "language": "python",
   "name": "python3"
  },
  "language_info": {
   "codemirror_mode": {
    "name": "ipython",
    "version": 3
   },
   "file_extension": ".py",
   "mimetype": "text/x-python",
   "name": "python",
   "nbconvert_exporter": "python",
   "pygments_lexer": "ipython3",
   "version": "3.11.4"
  }
 },
 "nbformat": 4,
 "nbformat_minor": 5
}
