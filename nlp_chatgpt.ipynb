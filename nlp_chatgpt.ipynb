{
 "cells": [
  {
   "cell_type": "markdown",
   "id": "f65eb60a",
   "metadata": {},
   "source": [
    "# NLP - ChatGPT"
   ]
  },
  {
   "cell_type": "code",
   "execution_count": 1,
   "id": "d06aa023",
   "metadata": {},
   "outputs": [],
   "source": [
    "%load_ext autoreload\n",
    "%autoreload 2\n",
    "import sys\n",
    "sys.path.append('.')\n",
    "\n",
    "import os\n",
    "import pandas as pd\n",
    "import numpy as np\n",
    "from common.db import Neo4jDB\n",
    "\n",
    "NEO4J_CONFIG = 'graph_db_ee'\n",
    "NEO4J_DB='calllog'\n",
    "neo4jdb = Neo4jDB(config_name=NEO4J_CONFIG, database=NEO4J_DB)"
   ]
  },
  {
   "cell_type": "markdown",
   "id": "337a9556",
   "metadata": {},
   "source": [
    "### Read Call Log Data"
   ]
  },
  {
   "cell_type": "code",
   "execution_count": 2,
   "id": "d9f702ea",
   "metadata": {},
   "outputs": [],
   "source": [
    "cypher1 = '''MATCH (dr:DispatchRaw)<--(d:Dispatch)-->(f:Failure)\n",
    "WHERE dr.classify3='(bootup)no power'\n",
    "RETURN dr.contact_title AS contact_title,\n",
    "       dr.contact_text AS contact_text,\n",
    "       dr.classify3 AS classify3\n",
    "LIMIT 300\n",
    "'''\n",
    "data1 = neo4jdb.run_cypher(cypher1)\n",
    "data1.drop_duplicates(subset='contact_text', inplace=True)\n",
    "\n",
    "cypher2 = '''MATCH (dr:DispatchRaw)<--(d:Dispatch)-->(f:Failure)\n",
    "WHERE dr.classify3='(bsod)bsod'\n",
    "RETURN dr.contact_title AS contact_title,\n",
    "       dr.contact_text AS contact_text,\n",
    "       dr.classify3 AS classify3\n",
    "LIMIT 300\n",
    "'''\n",
    "data2 = neo4jdb.run_cypher(cypher2)\n",
    "data2.drop_duplicates(subset='contact_text', inplace=True)\n",
    "\n",
    "data = pd.concat([data1.sample(25), data2.sample(25)])\n",
    "data.reset_index(drop=True, inplace=True)"
   ]
  },
  {
   "cell_type": "markdown",
   "id": "779437e8",
   "metadata": {},
   "source": [
    "### Prompt Engineering"
   ]
  },
  {
   "cell_type": "code",
   "execution_count": 3,
   "id": "e3c79ffc",
   "metadata": {},
   "outputs": [
    {
     "name": "stdout",
     "output_type": "stream",
     "text": [
      "You are a  Contact Center Customer Service Representative (CSR), Read below contact_title and concact_text and classify the failure type.\n",
      "\n",
      "Classify Definition:\n",
      "\t(bootup)no power: device can not power on\n",
      "\t(bosd)(bsod): device fall into blue screen and death\n",
      "\n",
      "contact_title: ***GCEO*** COLLAB CASE # 179262476***\n",
      "contact_text: The laptop has been blue screening multiple times. we had to give the user a new laptop due to this. We believe this is linked to a memory issue. this is due to researching the blue screen error. I will attach a document with both the blue screen and blue screen error code._x000D_**** Repair Type : Onsite Tech_x000D_*** OnSite Tech Contact : Hassan Nurfore / hassan.nurfore@mcc.org.uk / 07957127941 /  / _x000D_*** OnSite Tech Note : IT office_x000D_** Service Location: **_x000D_AddressXXXXXXXXXXXXXXXXXXXXXXXXXXXXXXx000D_City: London_x000D_State / Province: London_x000D_Country: GB_x000D_Zip / Postal Code: NW88QN_x000D_Windows windows 10 _x000D_ Preferred Contact Method: EmailXXXXXXXXXXXXXXXXXXXXXXXXXXXXXXhis Service Request: https://techdirect.dell.com/Portal/Attachment.aspx?ID=87FD1D6832C144799B7751204A68653D\n"
     ]
    }
   ],
   "source": [
    "r = data.iloc[25]\n",
    "print('You are a  Contact Center Customer Service Representative (CSR), Read below contact_title and concact_text and classify the failure type.\\n')\n",
    "print('Classify Definition:\\n\\t(bootup)no power: device can not power on\\n\\t(bosd)(bsod): device fall into blue screen and death\\n')\n",
    "print(f\"contact_title: {r['contact_title']}\")\n",
    "print(f\"contact_text: {r['contact_text']}\")"
   ]
  },
  {
   "cell_type": "code",
   "execution_count": null,
   "id": "a491ba45",
   "metadata": {},
   "outputs": [],
   "source": []
  }
 ],
 "metadata": {
  "kernelspec": {
   "display_name": "Python 3 (ipykernel)",
   "language": "python",
   "name": "python3"
  },
  "language_info": {
   "codemirror_mode": {
    "name": "ipython",
    "version": 3
   },
   "file_extension": ".py",
   "mimetype": "text/x-python",
   "name": "python",
   "nbconvert_exporter": "python",
   "pygments_lexer": "ipython3",
   "version": "3.11.4"
  }
 },
 "nbformat": 4,
 "nbformat_minor": 5
}
