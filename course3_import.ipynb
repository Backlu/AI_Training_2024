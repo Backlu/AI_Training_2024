{
 "cells": [
  {
   "cell_type": "markdown",
   "id": "10678013",
   "metadata": {},
   "source": [
    "# 課程三: Import Module"
   ]
  },
  {
   "cell_type": "code",
   "execution_count": 1,
   "id": "6ae29ebf",
   "metadata": {},
   "outputs": [],
   "source": [
    "import numpy as np\n",
    "import datetime"
   ]
  },
  {
   "cell_type": "markdown",
   "id": "b7e92952",
   "metadata": {},
   "source": [
    "### 1. Design Class"
   ]
  },
  {
   "cell_type": "code",
   "execution_count": 2,
   "id": "3e50d1cf",
   "metadata": {},
   "outputs": [],
   "source": [
    "class Calculator:\n",
    "    def __init__(self):\n",
    "        today = datetime.datetime.today().strftime('%Y%m%d')\n",
    "        now =  datetime.datetime.now().strftime('%H:%M:%S')\n",
    "        print(f'Hello, This is DELL Calculator T-800, today is {today}')\n",
    "\n",
    "    def subtract(self, x, y):\n",
    "        result = np.subtract(x, y)\n",
    "        return result\n",
    "    \n",
    "    def add(self, x, y):\n",
    "        result = np.add(x,y)\n",
    "        return result\n",
    "\n",
    "    def multiply(self, x, y):\n",
    "        result = np.multiply(x, y)\n",
    "        return result\n",
    "\n",
    "    def divide_jay(self, x, y):\n",
    "        result = x/y\n",
    "        return result\n",
    "        \n",
    "    def divide(self, x, y):\n",
    "        result = np.divide(x, y)\n",
    "        return result\n",
    "    \n",
    "    def log10(self, x):\n",
    "        result = np.log10(x)\n",
    "        return result\n",
    "    \n",
    "    def square(self, x):\n",
    "        result = np.square\n",
    "        return result\n",
    "    \n",
    "    def sin(self, degree):\n",
    "        rad = np.deg2rad(degree)\n",
    "        sin_value = np.sin(rad)\n",
    "        return sin_value\n"
   ]
  },
  {
   "cell_type": "markdown",
   "id": "48dc5ef5",
   "metadata": {},
   "source": [
    "### 2. Use Calculator Object"
   ]
  },
  {
   "cell_type": "code",
   "execution_count": 3,
   "id": "37a0982c",
   "metadata": {},
   "outputs": [
    {
     "name": "stdout",
     "output_type": "stream",
     "text": [
      "Hello, This is DELL Calculator T-800, today is 20240426\n"
     ]
    }
   ],
   "source": [
    "calculator1 = Calculator()"
   ]
  },
  {
   "cell_type": "code",
   "execution_count": null,
   "id": "64e457f1",
   "metadata": {},
   "outputs": [],
   "source": [
    "result_add = calculator1.add(5000,2500)\n",
    "print('5000+2500=',result_add)\n"
   ]
  },
  {
   "cell_type": "code",
   "execution_count": null,
   "id": "0a914462",
   "metadata": {},
   "outputs": [],
   "source": [
    "result_subtract = calculator1.subtract(5000, 2500)\n",
    "print('5000-2500=',result_subtract)"
   ]
  },
  {
   "cell_type": "code",
   "execution_count": 4,
   "id": "3712df71",
   "metadata": {},
   "outputs": [
    {
     "ename": "ZeroDivisionError",
     "evalue": "division by zero",
     "output_type": "error",
     "traceback": [
      "\u001b[0;31m---------------------------------------------------------------------------\u001b[0m",
      "\u001b[0;31mZeroDivisionError\u001b[0m                         Traceback (most recent call last)",
      "\u001b[0;32m/var/folders/m2/9kqnv3292pd3zv6hw2ffgk8h0000gn/T/ipykernel_21095/1284471760.py\u001b[0m in \u001b[0;36m<module>\u001b[0;34m\u001b[0m\n\u001b[0;32m----> 1\u001b[0;31m \u001b[0mcalculator1\u001b[0m\u001b[0;34m.\u001b[0m\u001b[0mdivide_jay\u001b[0m\u001b[0;34m(\u001b[0m\u001b[0;36m10\u001b[0m\u001b[0;34m,\u001b[0m\u001b[0;36m0\u001b[0m\u001b[0;34m)\u001b[0m\u001b[0;34m\u001b[0m\u001b[0;34m\u001b[0m\u001b[0m\n\u001b[0m",
      "\u001b[0;32m/var/folders/m2/9kqnv3292pd3zv6hw2ffgk8h0000gn/T/ipykernel_21095/3747203614.py\u001b[0m in \u001b[0;36mdivide_jay\u001b[0;34m(self, x, y)\u001b[0m\n\u001b[1;32m     18\u001b[0m \u001b[0;34m\u001b[0m\u001b[0m\n\u001b[1;32m     19\u001b[0m     \u001b[0;32mdef\u001b[0m \u001b[0mdivide_jay\u001b[0m\u001b[0;34m(\u001b[0m\u001b[0mself\u001b[0m\u001b[0;34m,\u001b[0m \u001b[0mx\u001b[0m\u001b[0;34m,\u001b[0m \u001b[0my\u001b[0m\u001b[0;34m)\u001b[0m\u001b[0;34m:\u001b[0m\u001b[0;34m\u001b[0m\u001b[0;34m\u001b[0m\u001b[0m\n\u001b[0;32m---> 20\u001b[0;31m         \u001b[0mresult\u001b[0m \u001b[0;34m=\u001b[0m \u001b[0mx\u001b[0m\u001b[0;34m/\u001b[0m\u001b[0my\u001b[0m\u001b[0;34m\u001b[0m\u001b[0;34m\u001b[0m\u001b[0m\n\u001b[0m\u001b[1;32m     21\u001b[0m         \u001b[0;32mreturn\u001b[0m \u001b[0mresult\u001b[0m\u001b[0;34m\u001b[0m\u001b[0;34m\u001b[0m\u001b[0m\n\u001b[1;32m     22\u001b[0m \u001b[0;34m\u001b[0m\u001b[0m\n",
      "\u001b[0;31mZeroDivisionError\u001b[0m: division by zero"
     ]
    }
   ],
   "source": [
    "calculator1.divide_jay(10,0)"
   ]
  },
  {
   "cell_type": "code",
   "execution_count": 5,
   "id": "55ec4ebd",
   "metadata": {
    "scrolled": true
   },
   "outputs": [
    {
     "name": "stderr",
     "output_type": "stream",
     "text": [
      "/var/folders/m2/9kqnv3292pd3zv6hw2ffgk8h0000gn/T/ipykernel_21095/3747203614.py:24: RuntimeWarning: divide by zero encountered in divide\n",
      "  result = np.divide(x, y)\n"
     ]
    },
    {
     "data": {
      "text/plain": [
       "inf"
      ]
     },
     "execution_count": 5,
     "metadata": {},
     "output_type": "execute_result"
    }
   ],
   "source": [
    "calculator1.divide(10,0)"
   ]
  },
  {
   "cell_type": "markdown",
   "id": "9cecdc27",
   "metadata": {},
   "source": [
    "## 3. 其他好用套件\n",
    "\n"
   ]
  },
  {
   "cell_type": "code",
   "execution_count": 6,
   "id": "16a30bc7",
   "metadata": {},
   "outputs": [],
   "source": [
    "#產生隨機數字, 資料\n",
    "import random"
   ]
  },
  {
   "cell_type": "code",
   "execution_count": 17,
   "id": "c791c0d1",
   "metadata": {},
   "outputs": [
    {
     "name": "stdout",
     "output_type": "stream",
     "text": [
      "0\n"
     ]
    }
   ],
   "source": [
    "random_number = random.randint(0, 10)\n",
    "print(random_number)"
   ]
  },
  {
   "cell_type": "code",
   "execution_count": 18,
   "id": "9babd7c2",
   "metadata": {},
   "outputs": [],
   "source": [
    "# python版的excel\n",
    "import pandas as pd"
   ]
  },
  {
   "cell_type": "code",
   "execution_count": 19,
   "id": "86a2d278",
   "metadata": {},
   "outputs": [
    {
     "data": {
      "text/html": [
       "<div>\n",
       "<style scoped>\n",
       "    .dataframe tbody tr th:only-of-type {\n",
       "        vertical-align: middle;\n",
       "    }\n",
       "\n",
       "    .dataframe tbody tr th {\n",
       "        vertical-align: top;\n",
       "    }\n",
       "\n",
       "    .dataframe thead th {\n",
       "        text-align: right;\n",
       "    }\n",
       "</style>\n",
       "<table border=\"1\" class=\"dataframe\">\n",
       "  <thead>\n",
       "    <tr style=\"text-align: right;\">\n",
       "      <th></th>\n",
       "      <th>國語</th>\n",
       "      <th>英文</th>\n",
       "      <th>數學</th>\n",
       "      <th>體育</th>\n",
       "    </tr>\n",
       "  </thead>\n",
       "  <tbody>\n",
       "    <tr>\n",
       "      <th>大雄</th>\n",
       "      <td>49</td>\n",
       "      <td>53</td>\n",
       "      <td>44</td>\n",
       "      <td>3</td>\n",
       "    </tr>\n",
       "    <tr>\n",
       "      <th>阿福</th>\n",
       "      <td>90</td>\n",
       "      <td>91</td>\n",
       "      <td>87</td>\n",
       "      <td>60</td>\n",
       "    </tr>\n",
       "    <tr>\n",
       "      <th>靜香</th>\n",
       "      <td>95</td>\n",
       "      <td>93</td>\n",
       "      <td>77</td>\n",
       "      <td>83</td>\n",
       "    </tr>\n",
       "  </tbody>\n",
       "</table>\n",
       "</div>"
      ],
      "text/plain": [
       "    國語  英文  數學  體育\n",
       "大雄  49  53  44   3\n",
       "阿福  90  91  87  60\n",
       "靜香  95  93  77  83"
      ]
     },
     "execution_count": 19,
     "metadata": {},
     "output_type": "execute_result"
    }
   ],
   "source": [
    "df = pd.DataFrame([ [49,53,44,3], \n",
    "               [90,91,87,60], \n",
    "              [95,93,77,83]\n",
    "             ],\n",
    "             columns=['國語','英文','數學','體育'],\n",
    "             index=['大雄','阿福','靜香']\n",
    "            )\n",
    "df"
   ]
  },
  {
   "cell_type": "code",
   "execution_count": 20,
   "id": "a7563893",
   "metadata": {},
   "outputs": [
    {
     "data": {
      "text/plain": [
       "國語    78.000000\n",
       "英文    79.000000\n",
       "數學    69.333333\n",
       "體育    48.666667\n",
       "dtype: float64"
      ]
     },
     "execution_count": 20,
     "metadata": {},
     "output_type": "execute_result"
    }
   ],
   "source": [
    "#計算DataFrame df 中每一列的平均值\n",
    "df.mean(axis=0)"
   ]
  },
  {
   "cell_type": "code",
   "execution_count": 21,
   "id": "49d1c505",
   "metadata": {},
   "outputs": [
    {
     "data": {
      "text/plain": [
       "大雄    37.25\n",
       "阿福    82.00\n",
       "靜香    87.00\n",
       "dtype: float64"
      ]
     },
     "execution_count": 21,
     "metadata": {},
     "output_type": "execute_result"
    }
   ],
   "source": [
    "#計算DataFrame df 中每一行的平均值\n",
    "df.mean(axis=1)"
   ]
  },
  {
   "cell_type": "code",
   "execution_count": 22,
   "id": "eedf4fff",
   "metadata": {},
   "outputs": [
    {
     "data": {
      "text/html": [
       "<div>\n",
       "<style scoped>\n",
       "    .dataframe tbody tr th:only-of-type {\n",
       "        vertical-align: middle;\n",
       "    }\n",
       "\n",
       "    .dataframe tbody tr th {\n",
       "        vertical-align: top;\n",
       "    }\n",
       "\n",
       "    .dataframe thead th {\n",
       "        text-align: right;\n",
       "    }\n",
       "</style>\n",
       "<table border=\"1\" class=\"dataframe\">\n",
       "  <thead>\n",
       "    <tr style=\"text-align: right;\">\n",
       "      <th></th>\n",
       "      <th>國語</th>\n",
       "      <th>英文</th>\n",
       "      <th>數學</th>\n",
       "      <th>體育</th>\n",
       "      <th>國語_調整後</th>\n",
       "    </tr>\n",
       "  </thead>\n",
       "  <tbody>\n",
       "    <tr>\n",
       "      <th>大雄</th>\n",
       "      <td>49</td>\n",
       "      <td>53</td>\n",
       "      <td>44</td>\n",
       "      <td>3</td>\n",
       "      <td>70.000000</td>\n",
       "    </tr>\n",
       "    <tr>\n",
       "      <th>阿福</th>\n",
       "      <td>90</td>\n",
       "      <td>91</td>\n",
       "      <td>87</td>\n",
       "      <td>60</td>\n",
       "      <td>94.868330</td>\n",
       "    </tr>\n",
       "    <tr>\n",
       "      <th>靜香</th>\n",
       "      <td>95</td>\n",
       "      <td>93</td>\n",
       "      <td>77</td>\n",
       "      <td>83</td>\n",
       "      <td>97.467943</td>\n",
       "    </tr>\n",
       "  </tbody>\n",
       "</table>\n",
       "</div>"
      ],
      "text/plain": [
       "    國語  英文  數學  體育     國語_調整後\n",
       "大雄  49  53  44   3  70.000000\n",
       "阿福  90  91  87  60  94.868330\n",
       "靜香  95  93  77  83  97.467943"
      ]
     },
     "metadata": {},
     "output_type": "display_data"
    }
   ],
   "source": [
    "#將DataFrame df 中國語這列的分數開根號乘以10\n",
    "df['國語_調整後'] = df['國語'].map(lambda x: np.sqrt(x)*10)\n",
    "display(df)"
   ]
  },
  {
   "cell_type": "code",
   "execution_count": null,
   "id": "224856d4",
   "metadata": {},
   "outputs": [],
   "source": []
  },
  {
   "cell_type": "markdown",
   "id": "6fcbdf26",
   "metadata": {},
   "source": [
    "![](file.png)"
   ]
  },
  {
   "cell_type": "markdown",
   "id": "140fb5a1",
   "metadata": {},
   "source": [
    "---"
   ]
  }
 ],
 "metadata": {
  "kernelspec": {
   "display_name": "Python 3 (ipykernel)",
   "language": "python",
   "name": "python3"
  },
  "language_info": {
   "codemirror_mode": {
    "name": "ipython",
    "version": 3
   },
   "file_extension": ".py",
   "mimetype": "text/x-python",
   "name": "python",
   "nbconvert_exporter": "python",
   "pygments_lexer": "ipython3",
   "version": "3.8.2"
  }
 },
 "nbformat": 4,
 "nbformat_minor": 5
}
