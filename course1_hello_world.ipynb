{
 "cells": [
  {
   "cell_type": "markdown",
   "id": "7e25ade6",
   "metadata": {},
   "source": [
    "# 課程一: Hello Python World"
   ]
  },
  {
   "cell_type": "markdown",
   "id": "f58e40e6",
   "metadata": {},
   "source": [
    "## 1. 基本操作\n",
    "\n",
    "- 執行以下程式碼, 看看會輸出什麼?\n",
    "    - 輸出文字:\n",
    "        - print('hello world')\n",
    "    - 加減乘除:\n",
    "        - (2+2)*3/3 \n",
    "    - 稍微進階一點的寫法\n",
    "        - result = (2+2)*3/3 \n",
    "        - print('計算結果:', result)\n"
   ]
  },
  {
   "cell_type": "code",
   "execution_count": 1,
   "id": "4024e90e",
   "metadata": {},
   "outputs": [
    {
     "name": "stdout",
     "output_type": "stream",
     "text": [
      "hello world\n"
     ]
    }
   ],
   "source": [
    "print('hello world')"
   ]
  },
  {
   "cell_type": "code",
   "execution_count": 8,
   "id": "791afb40",
   "metadata": {},
   "outputs": [
    {
     "data": {
      "text/plain": [
       "2"
      ]
     },
     "execution_count": 8,
     "metadata": {},
     "output_type": "execute_result"
    }
   ],
   "source": [
    "1+1"
   ]
  },
  {
   "cell_type": "code",
   "execution_count": 6,
   "id": "c261e37c",
   "metadata": {},
   "outputs": [
    {
     "name": "stdout",
     "output_type": "stream",
     "text": [
      "2\n"
     ]
    }
   ],
   "source": [
    "result = 1+1\n",
    "print(result)\n"
   ]
  },
  {
   "cell_type": "markdown",
   "id": "16cbaafa",
   "metadata": {},
   "source": [
    "這是基本操作"
   ]
  },
  {
   "cell_type": "markdown",
   "id": "64047ce6",
   "metadata": {},
   "source": [
    "---\n",
    "## 2. 變數\n",
    "### 2.1 基本變數類型\n",
    "- String\n",
    "- int\n",
    "- float\n"
   ]
  },
  {
   "cell_type": "code",
   "execution_count": 12,
   "id": "2a173f01",
   "metadata": {},
   "outputs": [
    {
     "data": {
      "text/plain": [
       "'this is string, 文字類型的都是字串'"
      ]
     },
     "execution_count": 12,
     "metadata": {},
     "output_type": "execute_result"
    }
   ],
   "source": [
    "# String\n",
    "'this is string, 文字類型的都是字串'"
   ]
  },
  {
   "cell_type": "code",
   "execution_count": 13,
   "id": "53e975b5",
   "metadata": {},
   "outputs": [
    {
     "data": {
      "text/plain": [
       "10"
      ]
     },
     "execution_count": 13,
     "metadata": {},
     "output_type": "execute_result"
    }
   ],
   "source": [
    "#int, 整數\n",
    "10"
   ]
  },
  {
   "cell_type": "code",
   "execution_count": 14,
   "id": "98d2d633",
   "metadata": {},
   "outputs": [
    {
     "data": {
      "text/plain": [
       "103.5"
      ]
     },
     "execution_count": 14,
     "metadata": {},
     "output_type": "execute_result"
    }
   ],
   "source": [
    "#float, 浮點數 (有小數點的)\n",
    "103.5"
   ]
  },
  {
   "cell_type": "markdown",
   "id": "de6bb7f3-fbf1-4b29-9a5c-757f5c755880",
   "metadata": {},
   "source": [
    "### 2.2 變數賦值方法\n",
    "- 使用等號 = 將值賦給變數\n",
    "- 變數命名規則: lower_with_under"
   ]
  },
  {
   "cell_type": "code",
   "execution_count": 16,
   "id": "947d7104-1a6d-474a-8422-801d02ad8dd7",
   "metadata": {},
   "outputs": [],
   "source": [
    "var_string = 'this is string, 文字類型的都是字串'\n",
    "var_int = 103\n",
    "var_float = 103.5"
   ]
  },
  {
   "cell_type": "code",
   "execution_count": 17,
   "id": "d4c95197-5984-4e67-8fe6-fcdb590bb37b",
   "metadata": {},
   "outputs": [
    {
     "name": "stdout",
     "output_type": "stream",
     "text": [
      "var_string:  this is string, 文字類型的都是字串\n",
      "var_int:  103\n",
      "var_float:  103.5\n"
     ]
    }
   ],
   "source": [
    "print('var_string: ', var_string)\n",
    "print('var_int: ', var_int)\n",
    "print('var_float: ', var_float)"
   ]
  },
  {
   "cell_type": "markdown",
   "id": "885003dc-7412-47d9-828f-7a1302840edf",
   "metadata": {},
   "source": [
    "### 2.3 變數命名規則\n",
    "- Python官方的風格指南（PEP 8）更傾向於使用小寫字母和底線的風格（snake_case）來命名變數和函數"
   ]
  },
  {
   "cell_type": "code",
   "execution_count": 22,
   "id": "ebecc2fb-bcec-4d34-ac22-28e0a20c9a2e",
   "metadata": {},
   "outputs": [],
   "source": [
    "var_string = '這是snake_case命名風格, lower_with_under'\n",
    "VarString = '這是CapWords 命名風格, 單詞的每個開始字母都是大寫的'\n",
    "varString = '這是camelCase命名風格, 第一個單詞的第一個字母是小寫的'"
   ]
  },
  {
   "cell_type": "markdown",
   "id": "cd6640ee",
   "metadata": {},
   "source": [
    "---\n",
    "## 3. 集合\n",
    "### 3.1 基本集合類型\n",
    "- list: 有序列表;  使用方括號[ ]定義\n",
    "- set: 不包含重複元素, 且沒有順序的列表;  使用大括號{ }定義\n",
    "- dict: 鍵值(key-value)對應的字典;  使用大括號{key1:value1, key1:value2, ...}定義"
   ]
  },
  {
   "cell_type": "code",
   "execution_count": 32,
   "id": "d30c2ca4",
   "metadata": {},
   "outputs": [],
   "source": [
    "var_list = [1, 2, 3, 3, 5.3, 7,8, 'AI', 'AI']\n",
    "var_set = {1, 2, 3, 3, 5.3, 7,8, 'AI', 'AI'}\n",
    "var_dict = {'AI': 'artificial intelligence', 'NLP':'natural language processing', 'CV':'computer vision'}"
   ]
  },
  {
   "cell_type": "code",
   "execution_count": 33,
   "id": "003bfba1",
   "metadata": {},
   "outputs": [
    {
     "name": "stdout",
     "output_type": "stream",
     "text": [
      "var_list:  [1, 2, 3, 3, 5.3, 7, 8, 'AI', 'AI']\n",
      "var_set:  {1, 'AI', 3, 2, 5.3, 7, 8}\n",
      "var_dict:  {'AI': 'artificial intelligence', 'NLP': 'natural language processing', 'CV': 'computer vision'}\n"
     ]
    }
   ],
   "source": [
    "print('var_list: ', var_list)\n",
    "print('var_set: ', var_set)\n",
    "print('var_dict: ', var_dict)"
   ]
  },
  {
   "cell_type": "code",
   "execution_count": 40,
   "id": "17eb0496",
   "metadata": {},
   "outputs": [
    {
     "name": "stdout",
     "output_type": "stream",
     "text": [
      "var_list:  1\n",
      "var_dict:  artificial intelligence\n"
     ]
    }
   ],
   "source": [
    "print('var_list: ', var_list[0])\n",
    "print('var_dict: ', var_dict['AI'])"
   ]
  },
  {
   "cell_type": "markdown",
   "id": "37a6bbea",
   "metadata": {},
   "source": [
    "## 4. 函數 (Function)"
   ]
  },
  {
   "cell_type": "markdown",
   "id": "6c513df8",
   "metadata": {},
   "source": [
    "### 4.1 寫程式來完成某些功能\n",
    "- task: 計算每月薪資總合"
   ]
  },
  {
   "cell_type": "code",
   "execution_count": 63,
   "id": "b7874c8e",
   "metadata": {},
   "outputs": [
    {
     "name": "stdout",
     "output_type": "stream",
     "text": [
      "本薪: 22000元\n",
      "加班費: 5000元\n",
      "全薪: 27000元\n"
     ]
    }
   ],
   "source": [
    "#1. assign value\n",
    "base_pay = 22000\n",
    "overtime_pay = 5000\n",
    "#2. 加總\n",
    "total_salary = base_salary + overtime_pay\n",
    "#3. 輸出結果\n",
    "print(f\"本薪: {base_salary}元\")\n",
    "print(f\"加班費: {overtime_pay}元\")\n",
    "print(f\"全薪: {total_salary}元\")"
   ]
  },
  {
   "cell_type": "markdown",
   "id": "3a482e3e",
   "metadata": {},
   "source": [
    "### 4.2 函數\n",
    "- 寫一個將計算薪水加總功能, 以後只需要使用這個功能, 就能自動算出全薪\n",
    "    - function name: calculate_total_salary\n",
    "    - algorithm: total_salary = base_salary + overtime_pay\n",
    "- 每個函數都需要一個名字, 第一行前半段 def calculate_total_salary, 定義一個名稱為calculate_total_salary的函數\n",
    "- 函數需要輸入, 第一行後半段 (base_salary, overtime_pay) 定義這個函數需要兩個輸入base_salary, overtime_pay\n",
    "- 中間的程式是計算過程\n",
    "- 函數執行完之後會有輸出, 最後一行 return total_salary 定義這個函數的回傳值(輸出)為total_salary\n"
   ]
  },
  {
   "cell_type": "code",
   "execution_count": 22,
   "id": "5d5f62db",
   "metadata": {},
   "outputs": [],
   "source": [
    "def calculate_total_salary(base_salary, overtime_pay):\n",
    "    \"\"\"計算全薪的函數，接受本薪和加班費兩個參數，返回全薪的總額。\"\"\"\n",
    "    total_salary = base_salary + overtime_pay\n",
    "    print(f\"本薪: {base_salary}元\")\n",
    "    print(f\"加班費: {overtime_pay}元\")\n",
    "    print(f\"全薪: {total_salary}元\\n\")    \n",
    "    return total_salary"
   ]
  },
  {
   "cell_type": "code",
   "execution_count": 24,
   "id": "8cef53ef",
   "metadata": {},
   "outputs": [
    {
     "name": "stdout",
     "output_type": "stream",
     "text": [
      "本薪: 22000元\n",
      "加班費: 5000元\n",
      "全薪: 27000元\n",
      "\n"
     ]
    }
   ],
   "source": [
    "#員工1薪資\n",
    "base_salary = 22000 \n",
    "overtime_pay = 5000\n",
    "total_salary_result = calculate_total_salary(base_salary, overtime_pay)\n"
   ]
  },
  {
   "cell_type": "code",
   "execution_count": 25,
   "id": "42425033",
   "metadata": {},
   "outputs": [
    {
     "name": "stdout",
     "output_type": "stream",
     "text": [
      "本薪: 150000元\n",
      "加班費: 0元\n",
      "全薪: 150000元\n",
      "\n"
     ]
    }
   ],
   "source": [
    "#員工2薪資\n",
    "base_salary = 150000\n",
    "overtime_pay = 0\n",
    "total_salary_result = calculate_total_salary(base_salary, overtime_pay)\n",
    "\n"
   ]
  },
  {
   "cell_type": "markdown",
   "id": "f0ee56e3",
   "metadata": {},
   "source": [
    "## 5. Debug\n",
    "- 當成是出現錯誤時會出現紅色的Error訊息,  只要看到一片紅色就是程式有錯誤了.  \n",
    "- 我自己習慣從最下面開始往上看\n",
    "    1. error message: 出現什麼錯誤了?\n",
    "    2.  錯誤出現在哪一行程式\n",
    "    3. 需要的話, 再往回追朔程式的起點"
   ]
  },
  {
   "cell_type": "code",
   "execution_count": 87,
   "id": "6da01a35",
   "metadata": {},
   "outputs": [
    {
     "ename": "TypeError",
     "evalue": "unsupported operand type(s) for +: 'int' and 'str'",
     "output_type": "error",
     "traceback": [
      "\u001b[0;31m---------------------------------------------------------------------------\u001b[0m",
      "\u001b[0;31mTypeError\u001b[0m                                 Traceback (most recent call last)",
      "Cell \u001b[0;32mIn[87], line 3\u001b[0m\n\u001b[1;32m      1\u001b[0m base_salary \u001b[38;5;241m=\u001b[39m \u001b[38;5;241m22000\u001b[39m  \u001b[38;5;66;03m# 本薪為22000元\u001b[39;00m\n\u001b[1;32m      2\u001b[0m overtime_pay \u001b[38;5;241m=\u001b[39m \u001b[38;5;124m'\u001b[39m\u001b[38;5;124m1500\u001b[39m\u001b[38;5;124m'\u001b[39m  \u001b[38;5;66;03m# 加班費為1500元\u001b[39;00m\n\u001b[0;32m----> 3\u001b[0m total_salary_result \u001b[38;5;241m=\u001b[39m \u001b[43mcalculate_total_salary\u001b[49m\u001b[43m(\u001b[49m\u001b[43mbase_salary\u001b[49m\u001b[43m,\u001b[49m\u001b[43m \u001b[49m\u001b[43movertime_pay\u001b[49m\u001b[43m)\u001b[49m\n",
      "Cell \u001b[0;32mIn[80], line 3\u001b[0m, in \u001b[0;36mcalculate_total_salary\u001b[0;34m(base_salary, overtime_pay)\u001b[0m\n\u001b[1;32m      1\u001b[0m \u001b[38;5;28;01mdef\u001b[39;00m \u001b[38;5;21mcalculate_total_salary\u001b[39m(base_salary, overtime_pay):\n\u001b[1;32m      2\u001b[0m \u001b[38;5;250m    \u001b[39m\u001b[38;5;124;03m\"\"\"計算全薪的函數，接受本薪和加班費兩個參數，返回全薪的總額。\"\"\"\u001b[39;00m\n\u001b[0;32m----> 3\u001b[0m     total_salary \u001b[38;5;241m=\u001b[39m \u001b[43mbase_salary\u001b[49m\u001b[43m \u001b[49m\u001b[38;5;241;43m+\u001b[39;49m\u001b[43m \u001b[49m\u001b[43movertime_pay\u001b[49m\n\u001b[1;32m      4\u001b[0m     \u001b[38;5;28mprint\u001b[39m(\u001b[38;5;124mf\u001b[39m\u001b[38;5;124m\"\u001b[39m\u001b[38;5;124m本薪: \u001b[39m\u001b[38;5;132;01m{\u001b[39;00mbase_salary\u001b[38;5;132;01m}\u001b[39;00m\u001b[38;5;124m元\u001b[39m\u001b[38;5;124m\"\u001b[39m)\n\u001b[1;32m      5\u001b[0m     \u001b[38;5;28mprint\u001b[39m(\u001b[38;5;124mf\u001b[39m\u001b[38;5;124m\"\u001b[39m\u001b[38;5;124m加班費: \u001b[39m\u001b[38;5;132;01m{\u001b[39;00movertime_pay\u001b[38;5;132;01m}\u001b[39;00m\u001b[38;5;124m元\u001b[39m\u001b[38;5;124m\"\u001b[39m)\n",
      "\u001b[0;31mTypeError\u001b[0m: unsupported operand type(s) for +: 'int' and 'str'"
     ]
    }
   ],
   "source": [
    "base_salary = 22000  # 本薪為22000元\n",
    "overtime_pay = '1500'  # 加班費為1500元\n",
    "total_salary_result = calculate_total_salary(base_salary, overtime_pay)"
   ]
  }
 ],
 "metadata": {
  "kernelspec": {
   "display_name": "Python 3 (ipykernel)",
   "language": "python",
   "name": "python3"
  },
  "language_info": {
   "codemirror_mode": {
    "name": "ipython",
    "version": 3
   },
   "file_extension": ".py",
   "mimetype": "text/x-python",
   "name": "python",
   "nbconvert_exporter": "python",
   "pygments_lexer": "ipython3",
   "version": "3.8.2"
  }
 },
 "nbformat": 4,
 "nbformat_minor": 5
}
