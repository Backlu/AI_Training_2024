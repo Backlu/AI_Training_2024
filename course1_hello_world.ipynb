{
 "cells": [
  {
   "cell_type": "markdown",
   "id": "7e25ade6",
   "metadata": {},
   "source": [
    "# 課程一: Hello Python World"
   ]
  },
  {
   "attachments": {},
   "cell_type": "markdown",
   "id": "f58e40e6",
   "metadata": {},
   "source": [
    "## 1. 基本操作\n",
    "\n",
    "- 執行以下程式碼, 看看會輸出什麼?\n",
    "    - 輸出文字:\n",
    "        - print('hello world')\n",
    "    - 加減乘除:\n",
    "        - (2+2)*3/3 \n",
    "    - 稍微進階一點的寫法\n",
    "        - result = (2+2)*3/3 \n",
    "        - print('計算結果:', result)\n"
   ]
  },
  {
   "cell_type": "code",
   "execution_count": 9,
   "id": "4024e90e",
   "metadata": {},
   "outputs": [
    {
     "name": "stdout",
     "output_type": "stream",
     "text": [
      "hello world\n"
     ]
    }
   ],
   "source": [
    "print('hello world')"
   ]
  },
  {
   "cell_type": "code",
   "execution_count": 10,
   "id": "791afb40",
   "metadata": {},
   "outputs": [
    {
     "data": {
      "text/plain": [
       "2"
      ]
     },
     "execution_count": 10,
     "metadata": {},
     "output_type": "execute_result"
    }
   ],
   "source": [
    "1+1"
   ]
  },
  {
   "cell_type": "code",
   "execution_count": 11,
   "id": "c261e37c",
   "metadata": {},
   "outputs": [
    {
     "name": "stdout",
     "output_type": "stream",
     "text": [
      "2\n"
     ]
    }
   ],
   "source": [
    "result = 1+1\n",
    "print(result)\n"
   ]
  },
  {
   "attachments": {},
   "cell_type": "markdown",
   "id": "64047ce6",
   "metadata": {},
   "source": [
    "## 2. 基本變數類型\n",
    "- String\n",
    "- int\n",
    "- float\n"
   ]
  },
  {
   "cell_type": "code",
   "execution_count": 12,
   "id": "2a173f01",
   "metadata": {},
   "outputs": [
    {
     "data": {
      "text/plain": [
       "'this is string, 文字類型的都是字串'"
      ]
     },
     "execution_count": 12,
     "metadata": {},
     "output_type": "execute_result"
    }
   ],
   "source": [
    "# String\n",
    "'this is string, 文字類型的都是字串'"
   ]
  },
  {
   "cell_type": "code",
   "execution_count": 13,
   "id": "53e975b5",
   "metadata": {},
   "outputs": [
    {
     "data": {
      "text/plain": [
       "103"
      ]
     },
     "execution_count": 13,
     "metadata": {},
     "output_type": "execute_result"
    }
   ],
   "source": [
    "#int, 整數\n",
    "103"
   ]
  },
  {
   "cell_type": "code",
   "execution_count": 14,
   "id": "98d2d633",
   "metadata": {},
   "outputs": [
    {
     "data": {
      "text/plain": [
       "103.5"
      ]
     },
     "execution_count": 14,
     "metadata": {},
     "output_type": "execute_result"
    }
   ],
   "source": [
    "#float, 浮點數 (有小數點的)\n",
    "103.5"
   ]
  },
  {
   "cell_type": "markdown",
   "id": "de6bb7f3-fbf1-4b29-9a5c-757f5c755880",
   "metadata": {},
   "source": [
    "## 3. 變數賦值方法\n",
    "- 使用等號 = 將值賦給變數\n",
    "- 變數命名規則: lower_with_under"
   ]
  },
  {
   "cell_type": "code",
   "execution_count": 19,
   "id": "947d7104-1a6d-474a-8422-801d02ad8dd7",
   "metadata": {},
   "outputs": [],
   "source": [
    "var_string = 'this is string, 文字類型的都是字串'\n",
    "var_int = 103\n",
    "var_float = 103.5"
   ]
  },
  {
   "cell_type": "code",
   "execution_count": 20,
   "id": "d4c95197-5984-4e67-8fe6-fcdb590bb37b",
   "metadata": {},
   "outputs": [
    {
     "name": "stdout",
     "output_type": "stream",
     "text": [
      "var_string:  this is string, 文字類型的都是字串\n",
      "var_int:  103\n",
      "var_float:  103.5\n"
     ]
    }
   ],
   "source": [
    "print('var_string: ', var_string)\n",
    "print('var_int: ', var_int)\n",
    "print('var_float: ', var_float)"
   ]
  },
  {
   "cell_type": "markdown",
   "id": "885003dc-7412-47d9-828f-7a1302840edf",
   "metadata": {},
   "source": [
    "### 變數命名規則\n",
    "- Python官方的風格指南（PEP 8）更傾向於使用小寫字母和底線的風格（snake_case）來命名變數和函數"
   ]
  },
  {
   "cell_type": "code",
   "execution_count": 22,
   "id": "ebecc2fb-bcec-4d34-ac22-28e0a20c9a2e",
   "metadata": {},
   "outputs": [],
   "source": [
    "var_string = '這是snake_case命名風格, lower_with_under'\n",
    "CarString = '這是CapWords 命名風格, 單詞的每個開始字母都是大寫的'\n",
    "varString = '這是camelCase, 第一個單詞的第一個字母是小寫的'"
   ]
  },
  {
   "cell_type": "code",
   "execution_count": null,
   "id": "4d62ec1b-cbb9-4d7d-aa00-3019d902499e",
   "metadata": {},
   "outputs": [],
   "source": []
  },
  {
   "cell_type": "code",
   "execution_count": null,
   "id": "d30c2ca4",
   "metadata": {},
   "outputs": [],
   "source": []
  }
 ],
 "metadata": {
  "kernelspec": {
   "display_name": "Python 3 (ipykernel)",
   "language": "python",
   "name": "python3"
  },
  "language_info": {
   "codemirror_mode": {
    "name": "ipython",
    "version": 3
   },
   "file_extension": ".py",
   "mimetype": "text/x-python",
   "name": "python",
   "nbconvert_exporter": "python",
   "pygments_lexer": "ipython3",
   "version": "3.11.4"
  }
 },
 "nbformat": 4,
 "nbformat_minor": 5
}
